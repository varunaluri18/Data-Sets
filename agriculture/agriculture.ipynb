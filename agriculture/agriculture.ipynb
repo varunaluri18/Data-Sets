{
 "cells": [
  {
   "cell_type": "code",
   "execution_count": 1,
   "id": "897c3631",
   "metadata": {},
   "outputs": [],
   "source": [
    "import pyspark\n",
    "from pyspark.sql import SparkSession\n",
    "spark =SparkSession.builder.appName('agriculture').getOrCreate()"
   ]
  },
  {
   "cell_type": "code",
   "execution_count": 2,
   "id": "69042c05",
   "metadata": {},
   "outputs": [],
   "source": [
    "apy=spark.read.csv('C://Users/VarunNagendra/Desktop/training/assesments/mini_projects/agriculture/apy.csv',header=True,inferSchema=True)\n",
    "area_cult=spark.read.csv('C://Users/VarunNagendra/Desktop/training/assesments/mini_projects/agriculture/area_cult.csv',header=True,inferSchema=True)\n",
    "crops_price=spark.read.csv('C://Users/VarunNagendra/Desktop/training/assesments/mini_projects/agriculture/crops_price.csv',header=True,inferSchema=True)\n",
    "rainfall_cleaned=spark.read.csv('C://Users/VarunNagendra/Desktop/training/assesments/mini_projects/agriculture/rainfall_cleaned.csv',header=True,inferSchema=True)\n",
    "suicides=spark.read.csv('C://Users/VarunNagendra/Desktop/training/assesments/mini_projects/agriculture/suicides_10-14.csv',header=True,inferSchema=True)\n",
    "data_set=spark.read.csv('C://Users/VarunNagendra/Desktop/training/assesments/mini_projects/agriculture/data_set.csv',header=True,inferSchema=True)"
   ]
  },
  {
   "cell_type": "markdown",
   "id": "e61eea00",
   "metadata": {},
   "source": [
    "# spark sql"
   ]
  },
  {
   "cell_type": "code",
   "execution_count": 3,
   "id": "058677b7",
   "metadata": {},
   "outputs": [],
   "source": [
    "apy.createOrReplaceTempView(\"ap\")\n",
    "area_cult.createOrReplaceTempView(\"area\")\n",
    "crops_price.createOrReplaceTempView(\"cropprice\")\n",
    "rainfall_cleaned.createOrReplaceTempView(\"rain\")\n",
    "suicides.createOrReplaceTempView(\"suicide\")\n",
    "data_set.createOrReplaceTempView(\"data\")"
   ]
  },
  {
   "cell_type": "markdown",
   "id": "8df1b1a0",
   "metadata": {},
   "source": [
    "#### 1.Finding trends in crops in terms of production, area"
   ]
  },
  {
   "cell_type": "code",
   "execution_count": 4,
   "id": "265a2890",
   "metadata": {},
   "outputs": [
    {
     "name": "stdout",
     "output_type": "stream",
     "text": [
      "+--------------------+-----------+----------------+\n",
      "|                crop| Total_Area|Total_production|\n",
      "+--------------------+-----------+----------------+\n",
      "|            Arecanut|  6012013.0|     2.0346592E7|\n",
      "|              Papaya|   133044.0|       3922521.0|\n",
      "|        Black pepper|  3446555.0|       1784234.0|\n",
      "|             Sesamum|2.8099154E7|     1.1009031E7|\n",
      "|Beans & Mutter(Ve...|    48663.0|        211359.0|\n",
      "|  Other  Rabi pulses|  8577095.0|       4805261.0|\n",
      "|           Ash Gourd|     1644.0|             0.0|\n",
      "|           Safflower|  5034059.0|       2821106.0|\n",
      "|           Pineapple|   162760.0|       2127594.0|\n",
      "|                Urad|4.7575718E7|     2.2410491E7|\n",
      "|                 Tea|    77810.0|        135981.0|\n",
      "|               Korra|   179309.0|        123713.0|\n",
      "|       Cashewnut Raw|   146009.0|         98462.0|\n",
      "|              Orange|   205201.0|       2338803.0|\n",
      "|     Cond-spcs other|     2767.0|          2260.0|\n",
      "|              Turnip|      802.0|           363.0|\n",
      "|              Banana|  5249628.0|     1.4613268E8|\n",
      "|               Peach|       42.0|             0.0|\n",
      "| Cashewnut Processed|    57461.0|          8121.0|\n",
      "|            Pump Kin|     5685.0|             0.0|\n",
      "+--------------------+-----------+----------------+\n",
      "only showing top 20 rows\n",
      "\n"
     ]
    }
   ],
   "source": [
    "spark.sql('''\n",
    "select crop,round(sum(area)) as Total_Area,round(sum(Production)) as Total_production \n",
    "from ap \n",
    "group by crop\n",
    "''').show()"
   ]
  },
  {
   "cell_type": "markdown",
   "id": "71679257",
   "metadata": {},
   "source": [
    "#### 2.State wise suicide rate of the farmers"
   ]
  },
  {
   "cell_type": "code",
   "execution_count": 5,
   "id": "8b9e6c8b",
   "metadata": {},
   "outputs": [
    {
     "name": "stdout",
     "output_type": "stream",
     "text": [
      "+--------------------+------------+\n",
      "|              states|suicide_rate|\n",
      "+--------------------+------------+\n",
      "|ANDAMAN & NICOBAR...|         0.0|\n",
      "|      ANDHRA PRADESH|     4253.28|\n",
      "|   ARUNACHAL PRADESH|         7.9|\n",
      "|               ASSAM|         0.0|\n",
      "|               BIHAR|      109.29|\n",
      "|          CHANDIGARH|         0.0|\n",
      "|        CHHATTISGARH|      665.13|\n",
      "|DADRA AND NAGAR H...|         0.0|\n",
      "|                 GOA|        1.17|\n",
      "|             GUJARAT|      477.21|\n",
      "|             HARYANA|      315.81|\n",
      "|    HIMACHAL PRADESH|       18.91|\n",
      "|     JAMMU & KASHMIR|        4.74|\n",
      "|           JHARKHAND|       12.11|\n",
      "|           KARNATAKA|     3655.82|\n",
      "|              KERALA|       930.7|\n",
      "|      MADHYA PRADESH|     1989.15|\n",
      "|         MAHARASHTRA|     3554.98|\n",
      "|             MANIPUR|         0.0|\n",
      "|           MEGHALAYA|       15.17|\n",
      "+--------------------+------------+\n",
      "only showing top 20 rows\n",
      "\n"
     ]
    }
   ],
   "source": [
    "#spark.sql('select state,(y2010+y2011+y2012+y2013+y2014)/100 as suicide_rate from suicide').show()\n",
    "spark.sql('''\n",
    "select states,sum(suicides)/100 as suicide_rate \n",
    "from data \n",
    "group by states \n",
    "order by states\n",
    "''').show()"
   ]
  },
  {
   "cell_type": "markdown",
   "id": "0e936f6a",
   "metadata": {},
   "source": [
    "#### 3.Which year has Highest cultivation of Pulses "
   ]
  },
  {
   "cell_type": "code",
   "execution_count": 6,
   "id": "96426cd0",
   "metadata": {},
   "outputs": [
    {
     "name": "stdout",
     "output_type": "stream",
     "text": [
      "+----+\n",
      "|year|\n",
      "+----+\n",
      "|2007|\n",
      "+----+\n",
      "\n"
     ]
    }
   ],
   "source": [
    "spark.sql('''\n",
    "select year \n",
    "from area \n",
    "order by pulsestotal \n",
    "desc limit 1\n",
    "''').show()"
   ]
  },
  {
   "cell_type": "markdown",
   "id": "8383ab18",
   "metadata": {},
   "source": [
    "#### 4.Which year has Highest cultivation among rice, wheat and coffee"
   ]
  },
  {
   "cell_type": "code",
   "execution_count": 7,
   "id": "bb009268",
   "metadata": {
    "scrolled": false
   },
   "outputs": [
    {
     "name": "stdout",
     "output_type": "stream",
     "text": [
      "+---------+\n",
      "|Crop_year|\n",
      "+---------+\n",
      "|     2015|\n",
      "+---------+\n",
      "\n"
     ]
    }
   ],
   "source": [
    "#spark.sql('select year,sum(production) from area,ap where area.year=ap.Crop_year group by year').show(40)\n",
    "spark.sql('''\n",
    "select Crop_year \n",
    "from ap \n",
    "where crop in ('Rice','Wheat','Rice') \n",
    "group by Crop_year \n",
    "order by sum(production) \n",
    "limit 1\n",
    "''').show(40)"
   ]
  },
  {
   "cell_type": "markdown",
   "id": "5e009ec6",
   "metadata": {},
   "source": [
    "#### 5.Which state yields highest crop per year"
   ]
  },
  {
   "cell_type": "code",
   "execution_count": 8,
   "id": "4d31dd0c",
   "metadata": {},
   "outputs": [
    {
     "name": "stdout",
     "output_type": "stream",
     "text": [
      "+---------+----------+-----------+\n",
      "|Crop_year|State_Name|productions|\n",
      "+---------+----------+-----------+\n",
      "|     1997|Tamil Nadu|   3.7158E7|\n",
      "|     1998|    Kerala|     9.99E8|\n",
      "|     1999|    Kerala|    1.059E9|\n",
      "|     2000|    Kerala|     9.03E8|\n",
      "|     2001|    Kerala|     8.95E8|\n",
      "|     2002|    Kerala|     8.88E8|\n",
      "|     2003|    Kerala|     8.98E8|\n",
      "|     2004|    Kerala|      9.0E8|\n",
      "|     2005|    Kerala|     8.63E8|\n",
      "|     2006|    Kerala|     8.59E8|\n",
      "|     2007|    Kerala|     8.51E8|\n",
      "|     2008|    Kerala|     9.52E8|\n",
      "|     2009|    Kerala|    1.063E9|\n",
      "|     2010|    Kerala|  9.16053E8|\n",
      "|     2011|Tamil Nadu|   1.2508E9|\n",
      "|     2012|    Kerala|    1.125E9|\n",
      "|     2013|Tamil Nadu|    1.212E9|\n",
      "|     2014|    Kerala|    1.001E9|\n",
      "|     2015|    Odisha|   465000.0|\n",
      "+---------+----------+-----------+\n",
      "\n"
     ]
    }
   ],
   "source": [
    "#spark.sql('select State_Name,sum(Production)/Count(distinct(Crop_Year)) as production_per_year from ap group by State_Name order by State_Name').show()\n",
    "spark.sql('''\n",
    "select Crop_year,State_Name,productions from(\n",
    "select Crop_year,State_Name,max(Production) as productions,\n",
    "dense_rank() over(partition by Crop_year order by max(Production) desc) as row_count \n",
    "from ap group by Crop_year,State_Name) \n",
    "where row_count=1 \n",
    "order by Crop_year\n",
    "''').show()"
   ]
  },
  {
   "cell_type": "markdown",
   "id": "670e31f2",
   "metadata": {},
   "source": [
    "#### 6.Finding how different factors like temperature affect production"
   ]
  },
  {
   "cell_type": "code",
   "execution_count": 9,
   "id": "4bba64ec",
   "metadata": {},
   "outputs": [
    {
     "name": "stdout",
     "output_type": "stream",
     "text": [
      "+----+---------------+--------------------+\n",
      "|year|Avg_Temperature|     avg(production)|\n",
      "+----+---------------+--------------------+\n",
      "|2000|           24.6|   9465958.230114356|\n",
      "|2001|          24.73|   9848998.470013196|\n",
      "|2002|           25.0|    7894312.98732308|\n",
      "|2003|          24.72|   8239306.456534859|\n",
      "|2004|          24.74|1.0594387703570504E7|\n",
      "|2005|          24.58|1.0169099026219973E7|\n",
      "|2006|          25.06|1.1423569899710525E7|\n",
      "|2007|          24.77|   9160375.950173104|\n",
      "|2008|          24.61| 1.027565699355526E7|\n",
      "|2009|          25.11|1.1038175828256482E7|\n",
      "|2010|          25.13|   8616951.537390713|\n",
      "|2011|          24.66|2.1167017880369823E7|\n",
      "|2012|          24.69|1.2807295840172412E7|\n",
      "|2013|            0.0|1.9640165346849315E7|\n",
      "|2014|            0.0|1.4735613318214286E7|\n",
      "|2015|            0.0|   315230.2136363636|\n",
      "+----+---------------+--------------------+\n",
      "\n"
     ]
    }
   ],
   "source": [
    "spark.sql('''\n",
    "select year,Avg_Temperature,avg(production) \n",
    "from data \n",
    "group by year,Avg_Temperature \n",
    "order by year\n",
    "''').show()"
   ]
  },
  {
   "cell_type": "markdown",
   "id": "0cf3779b",
   "metadata": {},
   "source": [
    "#### 7.Year wise suicide rates of farmers"
   ]
  },
  {
   "cell_type": "code",
   "execution_count": 10,
   "id": "bd3474ba",
   "metadata": {},
   "outputs": [
    {
     "name": "stdout",
     "output_type": "stream",
     "text": [
      "+----+------------+\n",
      "|year|suicide_rate|\n",
      "+----+------------+\n",
      "|2010|    497780.0|\n",
      "|2012|    437710.0|\n",
      "|2011|    435725.0|\n",
      "|2013|    341826.0|\n",
      "|2014|    138294.0|\n",
      "|2003|         0.0|\n",
      "|2015|         0.0|\n",
      "|2007|         0.0|\n",
      "|2006|         0.0|\n",
      "|2004|         0.0|\n",
      "|2000|         0.0|\n",
      "|2008|         0.0|\n",
      "|2002|         0.0|\n",
      "|2001|         0.0|\n",
      "|2009|         0.0|\n",
      "|2005|         0.0|\n",
      "+----+------------+\n",
      "\n"
     ]
    }
   ],
   "source": [
    "spark.sql('''\n",
    "select year,sum(suicides) as suicide_rate\n",
    "from data \n",
    "group by year \n",
    "order by suicide_rate desc\n",
    "''').show()"
   ]
  },
  {
   "cell_type": "markdown",
   "id": "1ac41fc3",
   "metadata": {},
   "source": [
    "#### 8.Which state receives highest rainfall in which year and what is the annual rainfall? "
   ]
  },
  {
   "cell_type": "code",
   "execution_count": 11,
   "id": "eb93706b",
   "metadata": {},
   "outputs": [
    {
     "name": "stdout",
     "output_type": "stream",
     "text": [
      "+----+--------------------+----------------------+\n",
      "|year|              states|maximumannual_rainfall|\n",
      "+----+--------------------+----------------------+\n",
      "|2011|ANDAMAN & NICOBAR...|                3828.0|\n",
      "+----+--------------------+----------------------+\n",
      "\n"
     ]
    }
   ],
   "source": [
    "spark.sql('''\n",
    "select year,states,annual as maximumannual_rainfall \n",
    "from rain \n",
    "where annual=(select max(annual) from rain) \n",
    "group by year,states,annual\n",
    "''').show()\n",
    "#spark.sql('select year,states,max(annual) as maximumannual_rainfall from rain group by year,states order by max(annual) desc limit 1').show()\n",
    "#spark.sql('select states,maxiannual,year from(select year,states,max(annual) as maxiannual,rank() over(partition by year order by max(annual) desc) as roww from rain group by year,states) where roww=1 order by year asc').show()"
   ]
  },
  {
   "cell_type": "markdown",
   "id": "ff7702da",
   "metadata": {},
   "source": [
    "#### 9.Crop wise cost of cultivation versus cost of production"
   ]
  },
  {
   "cell_type": "code",
   "execution_count": 12,
   "id": "0b86f5be",
   "metadata": {},
   "outputs": [
    {
     "name": "stdout",
     "output_type": "stream",
     "text": [
      "+-------------------+--------------------+------------------+\n",
      "|               Crop| cost_of_cultivation|cost_of_production|\n",
      "+-------------------+--------------------+------------------+\n",
      "|               Rice|5.880307326178279E12|      4.87442755E7|\n",
      "|              Wheat|4.972782163515270...|     2.289999095E7|\n",
      "|       Cotton(lint)| 2.45069003087245E12|      4.71064452E8|\n",
      "|          Sugarcane| 2.28684043712397E12|432177.23720000003|\n",
      "|          Groundnut|1.045283226719769...|      2.11948174E8|\n",
      "|               Gram|7.978108300479102E11|     1.187512006E8|\n",
      "|              Maize|6.264904585583301E11|     1.956743835E7|\n",
      "|          Arhar/Tur|  5.6204538547138E11|       2.2856027E8|\n",
      "|              Moong|   1.589241493702E11|     2.834757013E8|\n",
      "|              Peach|                 0.0|               0.0|\n",
      "|             Papaya|                 0.0|               0.0|\n",
      "|       Black pepper|                 0.0|               0.0|\n",
      "|                Tea|                 0.0|               0.0|\n",
      "| Other  Rabi pulses|                 0.0|               0.0|\n",
      "|          Ash Gourd|                 0.0|               0.0|\n",
      "|                Yam|                 0.0|               0.0|\n",
      "|               Urad|                 0.0|               0.0|\n",
      "|             Orange|                 0.0|               0.0|\n",
      "|Cashewnut Processed|                 0.0|               0.0|\n",
      "|           Pump Kin|                 0.0|               0.0|\n",
      "+-------------------+--------------------+------------------+\n",
      "only showing top 20 rows\n",
      "\n"
     ]
    }
   ],
   "source": [
    "spark.sql('''select Crop,sum(Area*Cost_per_Hectare) as cost_of_cultivation,sum(Price*Cost_per_quintal) as cost_of_production\n",
    "from data \n",
    "group by crop \n",
    "order by  cost_of_cultivation desc ,cost_of_production desc\n",
    "''').show()"
   ]
  },
  {
   "cell_type": "markdown",
   "id": "edcfc9a6",
   "metadata": {},
   "source": [
    "#### 10.Highest crop production in particular season."
   ]
  },
  {
   "cell_type": "code",
   "execution_count": 13,
   "id": "2fab5d4d",
   "metadata": {},
   "outputs": [
    {
     "name": "stdout",
     "output_type": "stream",
     "text": [
      "+-----------+-----------+\n",
      "|     season|productions|\n",
      "+-----------+-----------+\n",
      "|Whole Year |   1.2508E9|\n",
      "|Kharif     |1.7757963E7|\n",
      "|Rabi       |  7556300.0|\n",
      "|Winter     |  1841788.0|\n",
      "|Summer     |   882289.0|\n",
      "|Autumn     |   542692.0|\n",
      "+-----------+-----------+\n",
      "\n"
     ]
    }
   ],
   "source": [
    "spark.sql('''\n",
    "select season,max(production) as productions \n",
    "from ap \n",
    "group by season \n",
    "order by productions desc\n",
    "''').show()"
   ]
  },
  {
   "cell_type": "code",
   "execution_count": null,
   "id": "6403b966",
   "metadata": {},
   "outputs": [],
   "source": []
  }
 ],
 "metadata": {
  "kernelspec": {
   "display_name": "Python 3",
   "language": "python",
   "name": "python3"
  },
  "language_info": {
   "codemirror_mode": {
    "name": "ipython",
    "version": 3
   },
   "file_extension": ".py",
   "mimetype": "text/x-python",
   "name": "python",
   "nbconvert_exporter": "python",
   "pygments_lexer": "ipython3",
   "version": "3.8.8"
  }
 },
 "nbformat": 4,
 "nbformat_minor": 5
}
